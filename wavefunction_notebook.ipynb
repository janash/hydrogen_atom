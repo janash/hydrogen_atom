{
 "cells": [
  {
   "cell_type": "markdown",
   "metadata": {},
   "source": [
    "# Hydrogen Atom Orbitals\n",
    "\n",
    "This notebook uses an implementation of the equation given for wavefunctions in spherical coordinates given [here](https://en.wikipedia.org/wiki/Hydrogen_atom#Wavefunction), repeated below. There may still be some problems, as all my checks do not match re\n",
    "\n",
    "<img src=\"https://wikimedia.org/api/rest_v1/media/math/render/svg/5420e93c057b9abf30224e175d585fd48be03ba9\" class=\"mwe-math-fallback-image-inline\" aria-hidden=\"true\" style=\"vertical-align: -3.005ex; width:65.154ex; height:7.509ex;\" alt=\"{\\displaystyle \\psi _{n\\ell m}(r,\\theta ,\\phi )={\\sqrt {{\\left({\\frac {2}{na_{0}^{*}}}\\right)}^{3}{\\frac {(n-\\ell -1)!}{2n(n+\\ell )!}}}}e^{-\\rho /2}\\rho ^{\\ell }L_{n-\\ell -1}^{2\\ell +1}(\\rho )Y_{\\ell }^{m}(\\theta ,\\phi )}\">"
   ]
  },
  {
   "cell_type": "code",
   "execution_count": null,
   "metadata": {},
   "outputs": [],
   "source": [
    "from scipy.special import genlaguerre\n",
    "from scipy.special import sph_harm\n",
    "import numpy as np\n",
    "import itertools\n",
    "\n",
    "import matplotlib.pyplot as plt\n",
    "import plotly.graph_objects as go\n",
    "\n",
    "from mpl_toolkits.mplot3d import Axes3D  # noqa: F401 unused import\n",
    "\n",
    "import matplotlib.pyplot as plt\n",
    "\n",
    "%matplotlib notebook"
   ]
  },
  {
   "cell_type": "markdown",
   "metadata": {},
   "source": [
    "[SciPy General Laguerre](https://docs.scipy.org/doc/scipy/reference/generated/scipy.special.genlaguerre.html)\n",
    "\n",
    "[SciPy Spherical Harmonics](https://docs.scipy.org/doc/scipy/reference/generated/scipy.special.sph_harm.html)"
   ]
  },
  {
   "cell_type": "code",
   "execution_count": null,
   "metadata": {},
   "outputs": [],
   "source": [
    "bohr_radius = 1\n",
    "# Most function definitions just use a bohr radius of 1, so terms may not be included.\n",
    "\n",
    "def wavefunction(n, l, m, r, theta, phi):\n",
    "    rho = (2 * r) / n\n",
    "    term1 = np.sqrt(((2/n)**3) * (np.math.factorial(n-l-1) / (2 * n * np.math.factorial(n+l)) ))\n",
    "    term2 = np.exp(-rho/2) * np.power(rho, l)\n",
    "    laguerre = genlaguerre(n-l-1, 2*l+1)(rho)\n",
    "    harmonic = sph_harm(m, l, phi, theta)\n",
    "    \n",
    "    return term1*term2*harmonic*laguerre\n",
    "    \n",
    "def spherical_to_cartesian(r, theta, phi):\n",
    "    x = r * np.sin(theta) * np.cos(phi)\n",
    "    y = r * np.sin(theta) * np.sin(phi)\n",
    "    z = r * np.cos(theta)\n",
    "    \n",
    "    return x, y, z\n",
    "\n",
    "def wavefunction_100(r):\n",
    "    return (1/np.sqrt(np.pi)) * np.exp(-r/bohr_radius) * (1/bohr_radius) ** (3/2)\n",
    "\n",
    "def wavefunction_210(r, theta, phi):\n",
    "    term1 = 0.25*(1/np.sqrt(2*np.pi))\n",
    "    term2 = r*np.exp(-r/2)\n",
    "    term3 = np.cos(theta)\n",
    "    \n",
    "    return term1*term2*term3\n",
    "\n",
    "def wavefunction_321(r, theta, phi):\n",
    "    term1 = 1/(81*np.sqrt(np.pi))\n",
    "    term2 = r**2\n",
    "    term3 = np.exp(-r/3)\n",
    "    term4 = np.sin(theta)*np.cos(theta)\n",
    "    term5 = np.exp(1j*phi)\n",
    "    \n",
    "    return term1*term2*term3*term4*term5"
   ]
  },
  {
   "cell_type": "markdown",
   "metadata": {},
   "source": [
    "# Coordinate set up"
   ]
  },
  {
   "cell_type": "code",
   "execution_count": null,
   "metadata": {},
   "outputs": [],
   "source": [
    "# Set up coordinates - check our combinations to make sure \n",
    "# we're getting all of space\n",
    "r = [10]\n",
    "theta = np.linspace(-np.pi, np.pi, 45)\n",
    "phi = np.linspace(-2*np.pi, 2*np.pi, 45)\n",
    "\n",
    "combinations = np.array(list(itertools.product([10], theta, phi)))\n",
    "\n",
    "x, y, z = spherical_to_cartesian(combinations[:,0], combinations[:,1], combinations[:,2])\n",
    "\n",
    "fig = plt.figure()\n",
    "ax = fig.add_subplot(111, projection='3d')\n",
    "ax.scatter(x, y, z)"
   ]
  },
  {
   "cell_type": "code",
   "execution_count": null,
   "metadata": {},
   "outputs": [],
   "source": [
    "# More dense numbers for calculations\n",
    "r_range = np.linspace(0, 15, 30)\n",
    "theta_range = np.linspace(-np.pi, np.pi, 90)\n",
    "phi_range = np.linspace(-2*np.pi, 2*np.pi, 90)\n",
    "\n",
    "# Use itertools instead of for loops to get combinations\n",
    "combinations = np.array(list(itertools.product(r_range, theta_range, phi_range)))\n",
    "\n",
    "print(f'Number of points {len(combinations)}')\n",
    "\n",
    "# Get coordinates as variables\n",
    "r = combinations[:, 0]\n",
    "theta = combinations[:, 1]\n",
    "phi = combinations[:, 2]\n",
    "\n",
    "# Get cartesian for plotting\n",
    "x, y, z = spherical_to_cartesian(r, theta, phi)"
   ]
  },
  {
   "cell_type": "markdown",
   "metadata": {},
   "source": [
    "# Sanity Checks\n",
    "\n",
    "This next section has some sanity checks to see if the written function matches the equations given for particular orbitals in my textbook. \"Quantum Chemistry & Spectroscopy, Second Edition, Engel\""
   ]
  },
  {
   "cell_type": "code",
   "execution_count": null,
   "metadata": {},
   "outputs": [],
   "source": [
    "# Calculate values for 1,0,0 wavefunction and check\n",
    "\n",
    "wf_100 = wavefunction(1, 0, 0, r, theta, phi)\n",
    "\n",
    "wf_100_simplified = wavefunction_100(r)\n",
    "\n",
    "# Check that these are the same\n",
    "assert np.allclose(wf_100.real, wf_100_simplified)"
   ]
  },
  {
   "cell_type": "code",
   "execution_count": null,
   "metadata": {},
   "outputs": [],
   "source": [
    "# Plot the two functions vs r to see if they match.\n",
    "fig = plt.figure()\n",
    "plt.plot(r, list(wf_100.real))\n",
    "plt.plot(r, wf_100_simplified, 'o')"
   ]
  },
  {
   "cell_type": "code",
   "execution_count": null,
   "metadata": {},
   "outputs": [],
   "source": [
    "# Calculate values for 2,1,0 wavefunction\n",
    "\n",
    "wf_210 = wavefunction(2, 1, 0, r, theta, phi)\n",
    "\n",
    "wf_210_simplified = wavefunction_210(r, theta, phi)\n",
    "\n",
    "# Check that these equations are equal\n",
    "assert np.allclose(wf_210, wf_210_simplified)\n",
    "\n",
    "# Plot vs R \n",
    "fig = plt.figure()\n",
    "plt.plot(r, list(wf_210.real), 'o')\n",
    "plt.plot(r, wf_210_simplified, '*')\n",
    "\n",
    "# Plot vs theta\n",
    "fig = plt.figure()\n",
    "plt.plot(theta, list(wf_210.real), 'o')\n",
    "plt.plot(theta, wf_210_simplified, '*')"
   ]
  },
  {
   "cell_type": "code",
   "execution_count": null,
   "metadata": {},
   "outputs": [],
   "source": [
    "# Calculate the 321 wavefunction\n",
    "\n",
    "wf_321 = wavefunction(3, 2, 1, r, theta, phi)\n",
    "\n",
    "wf_321_simplified = wavefunction_321(r, theta, phi)\n",
    "\n",
    "# Not quite sure what's going on here - seems to be shifted\n",
    "plt.figure()\n",
    "plt.title(\"Difference in calculated and expected values.\")\n",
    "plt.plot((wf_321 - wf_321_simplified))\n",
    "\n",
    "#assert np.allclose(wf_321, wf_321_simplified)"
   ]
  },
  {
   "cell_type": "code",
   "execution_count": null,
   "metadata": {},
   "outputs": [],
   "source": [
    "# They look very similar\n",
    "plt.figure()\n",
    "plt.plot(r,wf_321, 'o')\n",
    "plt.plot(r,wf_321_simplified, '*')"
   ]
  },
  {
   "cell_type": "code",
   "execution_count": null,
   "metadata": {},
   "outputs": [],
   "source": [
    "# Let's try plotting some surfaces.\n",
    "\n",
    "# Start with 3D plot of 1s orbital where values are greater than\n",
    "# the 90th percentile of values.\n",
    "\n",
    "to_plot_mask = wf_100 > np.percentile(wf_100.real, 90)\n",
    "\n",
    "wf_100_x = x[to_plot_mask]\n",
    "wf_100_y = y[to_plot_mask]\n",
    "wf_100_z = z[to_plot_mask]\n",
    "\n",
    "fig = plt.figure()\n",
    "ax = fig.add_subplot(111, projection='3d')\n",
    "ax.scatter(wf_100_x, wf_100_y, wf_100_z)"
   ]
  },
  {
   "cell_type": "code",
   "execution_count": null,
   "metadata": {},
   "outputs": [],
   "source": [
    "# Let's try plotting some surfaces.\n",
    "\n",
    "# Start with 3D plot of 1s orbital where values are greater than\n",
    "# the 90th percentile of values.\n",
    "\n",
    "wf_210_probability = wf_210 ** 2\n",
    "\n",
    "to_plot_mask = wf_210_probability > np.percentile(wf_210_probability.real, 90)\n",
    "\n",
    "wf_100_x = x[to_plot_mask]\n",
    "wf_100_y = y[to_plot_mask]\n",
    "wf_100_z = z[to_plot_mask]\n",
    "\n",
    "fig = plt.figure()\n",
    "ax = fig.add_subplot(111, projection='3d')\n",
    "ax.scatter(wf_100_x, wf_100_y, wf_100_z)"
   ]
  },
  {
   "cell_type": "code",
   "execution_count": null,
   "metadata": {},
   "outputs": [],
   "source": [
    "# Let's try plotting some surfaces.\n",
    "\n",
    "# Start with 3D plot of 1s orbital where values are greater than\n",
    "# the 90th percentile of values.\n",
    "\n",
    "wf_321_probability = wf_321 ** 2\n",
    "\n",
    "to_plot_mask = wf_321_probability > np.percentile(wf_321_probability.real, 90)\n",
    "\n",
    "wf_100_x = x[to_plot_mask]\n",
    "wf_100_y = y[to_plot_mask]\n",
    "wf_100_z = z[to_plot_mask]\n",
    "\n",
    "fig = plt.figure()\n",
    "ax = fig.add_subplot(111, projection='3d')\n",
    "ax.scatter(wf_100_x, wf_100_y, wf_100_z)"
   ]
  },
  {
   "cell_type": "code",
   "execution_count": null,
   "metadata": {},
   "outputs": [],
   "source": []
  }
 ],
 "metadata": {
  "kernelspec": {
   "display_name": "Python 3",
   "language": "python",
   "name": "python3"
  },
  "language_info": {
   "codemirror_mode": {
    "name": "ipython",
    "version": 3
   },
   "file_extension": ".py",
   "mimetype": "text/x-python",
   "name": "python",
   "nbconvert_exporter": "python",
   "pygments_lexer": "ipython3",
   "version": "3.7.6"
  }
 },
 "nbformat": 4,
 "nbformat_minor": 4
}
